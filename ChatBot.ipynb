{
  "nbformat": 4,
  "nbformat_minor": 0,
  "metadata": {
    "colab": {
      "name": "ChatBot.ipynb",
      "provenance": [],
      "collapsed_sections": []
    },
    "kernelspec": {
      "name": "python3",
      "display_name": "Python 3"
    },
    "language_info": {
      "name": "python"
    }
  },
  "cells": [
    {
      "cell_type": "code",
      "metadata": {
        "id": "pxtrkLrilrAa"
      },
      "source": [
        "import random\n",
        "import nltk"
      ],
      "execution_count": 49,
      "outputs": []
    },
    {
      "cell_type": "code",
      "metadata": {
        "id": "1oAqgVJMeqqy"
      },
      "source": [
        "BOT_CONFIG = {\n",
        "    'intents':{\n",
        "        'hello':{\n",
        "            'examples':['Привет!','Хай!', 'Хеллоу', 'Утречко'],\n",
        "            'responces':['Здравствуйте!', 'Доброго дня', 'Салют!', 'Прувэт!!']\n",
        "        },\n",
        "        'howareyou':{\n",
        "            'examples':['Как дела ?','Как настроение?', 'Всё в порядке?'],\n",
        "            'responces':['Отлично!', 'Хорошо', 'Грустно было вез Вас']\n",
        "        },\n",
        "        'weather':{\n",
        "            'examples':['Какая погода?','Погода', 'Прогноз погоды'],\n",
        "            'responces':['Солнечно', 'Дождь', 'Снег', 'Ветренно', 'Ясная']\n",
        "        },\n",
        "        'compliment':{\n",
        "            'examples':['Спасибо!','Молодец!', 'Ты лучший'],\n",
        "            'responces':['Всегда пожалуйста', 'Обращайтесь', 'Рад был помочь Вам!!']\n",
        "        },\n",
        "        'bye':{\n",
        "            'examples':['Пока!','Увидимся!', 'Бай-бай!', 'Чао'],\n",
        "            'responces':['До свиданья', 'Приходите ещё', 'Рад был познакомиться', 'До завтра!']\n",
        "        }\n",
        "    }\n",
        "}"
      ],
      "execution_count": 50,
      "outputs": []
    },
    {
      "cell_type": "code",
      "metadata": {
        "id": "IL3vtbL4gFGM"
      },
      "source": [
        "def clean_text(text):\n",
        "  output_text = ''\n",
        "  for char in text.lower():\n",
        "    if char in 'абвгдеёжзийклмнопрстуфхцчшщъыьэюя':\n",
        "      output_text = output_text + char\n",
        "  return output_text\n",
        "\n",
        "def get_intent(text):\n",
        "  for intent in BOT_CONFIG['intents'].keys():\n",
        "    for example in BOT_CONFIG['intents'][intent]['examples']:\n",
        "      text1 = clean_text(example)\n",
        "      text2 = clean_text(text)\n",
        "      if len(text1) != 0 and len(text2) != 0:\n",
        "        if nltk.edit_distance(text1, text2)/ max(len(text1), len(text2)) < 0.4:\n",
        "          return intent\n",
        "  \n",
        "  return 'Не удалось определить, что вы сказали'"
      ],
      "execution_count": 51,
      "outputs": []
    },
    {
      "cell_type": "code",
      "metadata": {
        "id": "yawTeaeWhs_0"
      },
      "source": [
        "def bot(input_text):\n",
        "  intent = get_intent(input_text)\n",
        "  if intent != 'Не удалось определить, что вы сказали':\n",
        "    return random.choice(BOT_CONFIG['intents'][intent]['responces'])\n",
        "  else:\n",
        "    return 'Я ничего не понял! Повторите попытку.'\n"
      ],
      "execution_count": 52,
      "outputs": []
    },
    {
      "cell_type": "code",
      "metadata": {
        "colab": {
          "base_uri": "https://localhost:8080/"
        },
        "id": "tOMpit7HjJTs",
        "outputId": "9ae6156d-e8f1-415a-b028-aa01e42a9918"
      },
      "source": [
        "input_text = ''\n",
        "while input_text != 'Завершите работу':\n",
        "  input_text = input()\n",
        "  print(bot(input_text))"
      ],
      "execution_count": 48,
      "outputs": [
        {
          "output_type": "stream",
          "text": [
            "превед\n",
            "Доброго дня\n",
            "Завершите работу\n",
            "Я ничего не понял! Повторите попытку.\n"
          ],
          "name": "stdout"
        }
      ]
    }
  ]
}