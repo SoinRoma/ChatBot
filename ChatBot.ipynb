{
  "nbformat": 4,
  "nbformat_minor": 0,
  "metadata": {
    "colab": {
      "name": "ChatBot.ipynb",
      "provenance": [],
      "collapsed_sections": [
        "_8r9LD_vP895",
        "HhcqvEaWQKd2",
        "wDE4ZmsN7sN3",
        "P2uYPDGoSK7b"
      ]
    },
    "kernelspec": {
      "name": "python3",
      "display_name": "Python 3"
    },
    "language_info": {
      "name": "python"
    }
  },
  "cells": [
    {
      "cell_type": "markdown",
      "metadata": {
        "id": "KhzeF52IPzcN"
      },
      "source": [
        "# Чат бот с искусственным интелектом"
      ]
    },
    {
      "cell_type": "markdown",
      "metadata": {
        "id": "_8r9LD_vP895"
      },
      "source": [
        "### Подключение библиотек"
      ]
    },
    {
      "cell_type": "code",
      "metadata": {
        "id": "pxtrkLrilrAa"
      },
      "source": [
        "import random\n",
        "import nltk\n",
        "import json\n",
        "from sklearn.model_selection import train_test_split\n",
        "from sklearn.linear_model import LogisticRegression \n",
        "from sklearn.feature_extraction.text import CountVectorizer \n",
        "\n",
        "import logging\n",
        "from telegram import Update, ForceReply\n",
        "from telegram.ext import Updater, CommandHandler, MessageHandler, Filters, CallbackContext"
      ],
      "execution_count": 14,
      "outputs": []
    },
    {
      "cell_type": "markdown",
      "metadata": {
        "id": "HhcqvEaWQKd2"
      },
      "source": [
        "### Открытие BOT_CONFIG.json"
      ]
    },
    {
      "cell_type": "code",
      "metadata": {
        "id": "Xvi6T0nX3nq5"
      },
      "source": [
        "with open('/content/BOT_CONFIG.json', 'r') as f:\n",
        "  BOT_CONFIG = json.load(f)"
      ],
      "execution_count": 15,
      "outputs": []
    },
    {
      "cell_type": "markdown",
      "metadata": {
        "id": "wDE4ZmsN7sN3"
      },
      "source": [
        "### Заполяем данные для модели"
      ]
    },
    {
      "cell_type": "code",
      "metadata": {
        "id": "k56VWn0cB0WX"
      },
      "source": [
        "X = []\n",
        "Y = []\n",
        "\n",
        "for intent in BOT_CONFIG['intents'].keys():\n",
        "  try:\n",
        "    for example in BOT_CONFIG['intents'][intent]['examples']:\n",
        "      X.append(example)\n",
        "      Y.append(intent)\n",
        "  except:\n",
        "    print(BOT_CONFIG['intents'][intent])"
      ],
      "execution_count": null,
      "outputs": []
    },
    {
      "cell_type": "markdown",
      "metadata": {
        "id": "P2uYPDGoSK7b"
      },
      "source": [
        "### Тренировка модели, чтобы избежать переобучения"
      ]
    },
    {
      "cell_type": "code",
      "metadata": {
        "id": "pJIGQZt4RqaU"
      },
      "source": [
        "X_train, X_test, y_train, y_test = train_test_split(\n",
        "    X, Y, test_size=0.2, random_state=42)"
      ],
      "execution_count": 17,
      "outputs": []
    },
    {
      "cell_type": "markdown",
      "metadata": {
        "id": "WeeVyRhbQqcM"
      },
      "source": [
        "### Применяем векторизацию для всех слов из словаря"
      ]
    },
    {
      "cell_type": "code",
      "metadata": {
        "id": "Z8qbZXad7xa_"
      },
      "source": [
        "vectorizer = CountVectorizer(ngram_range=(1, 5), analyzer='word')\n",
        "X_train_vectorized = vectorizer.fit_transform(X_train)"
      ],
      "execution_count": 18,
      "outputs": []
    },
    {
      "cell_type": "markdown",
      "metadata": {
        "id": "EZ5SGOqhQ377"
      },
      "source": [
        "### Обучаем модель"
      ]
    },
    {
      "cell_type": "code",
      "metadata": {
        "colab": {
          "base_uri": "https://localhost:8080/"
        },
        "id": "AByYdX4eJgce",
        "outputId": "a9935112-5c69-4e4b-80c4-5fbf14bea946"
      },
      "source": [
        "clf = LogisticRegression( C=2.0, fit_intercept=False).fit(X_train_vectorized, y_train)\n",
        "clf.score(X_train_vectorized, y_train)"
      ],
      "execution_count": 19,
      "outputs": [
        {
          "output_type": "execute_result",
          "data": {
            "text/plain": [
              "0.8100320170757738"
            ]
          },
          "metadata": {
            "tags": []
          },
          "execution_count": 19
        }
      ]
    },
    {
      "cell_type": "code",
      "metadata": {
        "colab": {
          "base_uri": "https://localhost:8080/"
        },
        "id": "RYy7MSJTK56s",
        "outputId": "2e4bd459-9faf-4023-9ec0-f6c314c6731f"
      },
      "source": [
        "clf.predict(vectorizer.transform(['ку']))"
      ],
      "execution_count": 20,
      "outputs": [
        {
          "output_type": "execute_result",
          "data": {
            "text/plain": [
              "array(['hello'], dtype='<U25')"
            ]
          },
          "metadata": {
            "tags": []
          },
          "execution_count": 20
        }
      ]
    },
    {
      "cell_type": "code",
      "metadata": {
        "id": "NUrZipQNONXr"
      },
      "source": [
        "def get_intent_by_model(text):\n",
        "  return clf.predict(vectorizer.transform([text]))[0]"
      ],
      "execution_count": 21,
      "outputs": []
    },
    {
      "cell_type": "markdown",
      "metadata": {
        "id": "bWMlJhxgdZ3F"
      },
      "source": [
        "### Установка бота"
      ]
    },
    {
      "cell_type": "code",
      "metadata": {
        "id": "lR_11B5zdZUG"
      },
      "source": [
        "!pip install python-telegram-bot --upgrade"
      ],
      "execution_count": null,
      "outputs": []
    },
    {
      "cell_type": "markdown",
      "metadata": {
        "id": "lo_hF39KNwnb"
      },
      "source": [
        "## Вызов бота"
      ]
    },
    {
      "cell_type": "code",
      "metadata": {
        "id": "LEBjNRDnNz4A"
      },
      "source": [
        "def bot(input_text):\n",
        "  intent = get_intent_by_model(input_text)\n",
        "  return random.choice(BOT_CONFIG['intents'][intent]['responses'])"
      ],
      "execution_count": 22,
      "outputs": []
    },
    {
      "cell_type": "code",
      "metadata": {
        "id": "HzSMUdx8N9ds"
      },
      "source": [
        "input_text = ''\n",
        "while input_text != 'Завершите работу':\n",
        "  input_text = input()\n",
        "  print(bot(input_text))"
      ],
      "execution_count": null,
      "outputs": []
    },
    {
      "cell_type": "markdown",
      "metadata": {
        "id": "7Jdxx4jOgrN1"
      },
      "source": [
        "### Активация бота"
      ]
    },
    {
      "cell_type": "code",
      "metadata": {
        "id": "O4J6HNVJgpQc"
      },
      "source": [
        "# Enable logging\n",
        "logging.basicConfig(\n",
        "    format='%(asctime)s - %(name)s - %(levelname)s - %(message)s', level=logging.INFO\n",
        ")\n",
        "\n",
        "logger = logging.getLogger(__name__)\n",
        "\n",
        "\n",
        "# Define a few command handlers. These usually take the two arguments update and\n",
        "# context.\n",
        "def start(update: Update, context: CallbackContext) -> None:\n",
        "    \"\"\"Send a message when the command /start is issued.\"\"\"\n",
        "    user = update.effective_user\n",
        "    update.message.reply_markdown_v2(\n",
        "        fr'Hi {user.mention_markdown_v2()}\\!',\n",
        "        reply_markup=ForceReply(selective=True),\n",
        "    )\n",
        "\n",
        "\n",
        "def help_command(update: Update, context: CallbackContext) -> None:\n",
        "    \"\"\"Send a message when the command /help is issued.\"\"\"\n",
        "    update.message.reply_text('Help!')\n",
        "\n",
        "\n",
        "def echo(update: Update, context: CallbackContext) -> None:\n",
        "    \"\"\"Echo the user message.\"\"\"\n",
        "    update.message.reply_text(bot(update.message.text))\n",
        "\n",
        "\n",
        "def main() -> None:\n",
        "    \"\"\"Start the bot.\"\"\"\n",
        "    # Create the Updater and pass it your bot's token.\n",
        "    updater = Updater(\"1936887849:AAHp1oiwXR3GIehamNOoEvAGI36q4UE0AnQ\")\n",
        "\n",
        "    # Get the dispatcher to register handlers\n",
        "    dispatcher = updater.dispatcher\n",
        "\n",
        "    # on different commands - answer in Telegram\n",
        "    dispatcher.add_handler(CommandHandler(\"start\", start))\n",
        "    dispatcher.add_handler(CommandHandler(\"help\", help_command))\n",
        "\n",
        "    # on non command i.e message - echo the message on Telegram\n",
        "    dispatcher.add_handler(MessageHandler(Filters.text & ~Filters.command, echo))\n",
        "\n",
        "    # Start the Bot\n",
        "    updater.start_polling()\n",
        "\n",
        "    # Run the bot until you press Ctrl-C or the process receives SIGINT,\n",
        "    # SIGTERM or SIGABRT. This should be used most of the time, since\n",
        "    # start_polling() is non-blocking and will stop the bot gracefully.\n",
        "    updater.idle()"
      ],
      "execution_count": 27,
      "outputs": []
    },
    {
      "cell_type": "code",
      "metadata": {
        "id": "oFgMIiheg2L1"
      },
      "source": [
        " main()"
      ],
      "execution_count": null,
      "outputs": []
    }
  ]
}