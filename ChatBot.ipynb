{
  "nbformat": 4,
  "nbformat_minor": 0,
  "metadata": {
    "colab": {
      "name": "ChatBot.ipynb",
      "provenance": [],
      "collapsed_sections": []
    },
    "kernelspec": {
      "name": "python3",
      "display_name": "Python 3"
    },
    "language_info": {
      "name": "python"
    }
  },
  "cells": [
    {
      "cell_type": "markdown",
      "metadata": {
        "id": "KhzeF52IPzcN"
      },
      "source": [
        "# Чат бот с искусственным интелектом"
      ]
    },
    {
      "cell_type": "markdown",
      "metadata": {
        "id": "_8r9LD_vP895"
      },
      "source": [
        "### Подключение библиотек"
      ]
    },
    {
      "cell_type": "code",
      "metadata": {
        "id": "pxtrkLrilrAa"
      },
      "source": [
        "import random\n",
        "import nltk\n",
        "import json\n",
        "from sklearn.model_selection import train_test_split\n",
        "from sklearn.linear_model import LogisticRegression \n",
        "from sklearn.feature_extraction.text import CountVectorizer "
      ],
      "execution_count": 62,
      "outputs": []
    },
    {
      "cell_type": "markdown",
      "metadata": {
        "id": "HhcqvEaWQKd2"
      },
      "source": [
        "### Открытие BOT_CONFIG.json"
      ]
    },
    {
      "cell_type": "code",
      "metadata": {
        "id": "Xvi6T0nX3nq5"
      },
      "source": [
        "with open('/content/BOT_CONFIG.json', 'r') as f:\n",
        "  BOT_CONFIG = json.load(f)"
      ],
      "execution_count": 56,
      "outputs": []
    },
    {
      "cell_type": "markdown",
      "metadata": {
        "id": "wDE4ZmsN7sN3"
      },
      "source": [
        "### Заполяем данные для модели"
      ]
    },
    {
      "cell_type": "code",
      "metadata": {
        "id": "k56VWn0cB0WX"
      },
      "source": [
        "X = []\n",
        "Y = []\n",
        "\n",
        "for intent in BOT_CONFIG['intents'].keys():\n",
        "  try:\n",
        "    for example in BOT_CONFIG['intents'][intent]['examples']:\n",
        "      X.append(example)\n",
        "      Y.append(intent)\n",
        "  except:\n",
        "    print(BOT_CONFIG['intents'][intent])"
      ],
      "execution_count": null,
      "outputs": []
    },
    {
      "cell_type": "markdown",
      "metadata": {
        "id": "P2uYPDGoSK7b"
      },
      "source": [
        "### Тренировка модели, чтобы избежать переобучения"
      ]
    },
    {
      "cell_type": "code",
      "metadata": {
        "id": "pJIGQZt4RqaU"
      },
      "source": [
        "X_train, X_test, y_train, y_test = train_test_split(\n",
        "    X, Y, test_size=0.2, random_state=42)"
      ],
      "execution_count": 66,
      "outputs": []
    },
    {
      "cell_type": "markdown",
      "metadata": {
        "id": "WeeVyRhbQqcM"
      },
      "source": [
        "### Применяем векторизацию для всех слов из словаря"
      ]
    },
    {
      "cell_type": "code",
      "metadata": {
        "id": "Z8qbZXad7xa_"
      },
      "source": [
        "vectorizer = CountVectorizer(ngram_range=(1, 5), analyzer='word')\n",
        "X_train_vectorized = vectorizer.fit_transform(X_train)"
      ],
      "execution_count": 189,
      "outputs": []
    },
    {
      "cell_type": "markdown",
      "metadata": {
        "id": "EZ5SGOqhQ377"
      },
      "source": [
        "### Обучаем модель"
      ]
    },
    {
      "cell_type": "code",
      "metadata": {
        "colab": {
          "base_uri": "https://localhost:8080/"
        },
        "id": "AByYdX4eJgce",
        "outputId": "f3bf9406-f576-49ad-960f-f1eac35439ee"
      },
      "source": [
        "clf = LogisticRegression( C=2.0, fit_intercept=False).fit(X_train_vectorized, y_train)\n",
        "clf.score(X_train_vectorized, y_train)"
      ],
      "execution_count": 190,
      "outputs": [
        {
          "output_type": "execute_result",
          "data": {
            "text/plain": [
              "0.8100320170757738"
            ]
          },
          "metadata": {
            "tags": []
          },
          "execution_count": 190
        }
      ]
    },
    {
      "cell_type": "code",
      "metadata": {
        "colab": {
          "base_uri": "https://localhost:8080/"
        },
        "id": "RYy7MSJTK56s",
        "outputId": "e1b61c20-e12a-4fe5-9b4f-63249e7419de"
      },
      "source": [
        "clf.predict(vectorizer.transform(['как дела']))"
      ],
      "execution_count": 192,
      "outputs": [
        {
          "output_type": "execute_result",
          "data": {
            "text/plain": [
              "array(['howareyou'], dtype='<U25')"
            ]
          },
          "metadata": {
            "tags": []
          },
          "execution_count": 192
        }
      ]
    },
    {
      "cell_type": "code",
      "metadata": {
        "id": "NUrZipQNONXr"
      },
      "source": [
        "def get_intent_by_model(text):\n",
        "  return clf.predict(vectorizer.transform([text]))[0]"
      ],
      "execution_count": 61,
      "outputs": []
    },
    {
      "cell_type": "markdown",
      "metadata": {
        "id": "lo_hF39KNwnb"
      },
      "source": [
        "## Вызов бота"
      ]
    },
    {
      "cell_type": "code",
      "metadata": {
        "id": "LEBjNRDnNz4A"
      },
      "source": [
        "def bot(input_text):\n",
        "  intent = get_intent_by_model(input_text)\n",
        "  return random.choice(BOT_CONFIG['intents'][intent]['responces'])"
      ],
      "execution_count": 53,
      "outputs": []
    },
    {
      "cell_type": "code",
      "metadata": {
        "id": "HzSMUdx8N9ds"
      },
      "source": [
        "input_text = ''\n",
        "while input_text != 'Завершите работу':\n",
        "  input_text = input()\n",
        "  print(bot(input_text))"
      ],
      "execution_count": null,
      "outputs": []
    }
  ]
}